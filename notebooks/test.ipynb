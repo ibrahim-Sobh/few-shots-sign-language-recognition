{
 "cells": [
  {
   "cell_type": "code",
   "execution_count": 1,
   "metadata": {},
   "outputs": [
    {
     "name": "stderr",
     "output_type": "stream",
     "text": [
      "OpenCV: FFMPEG: tag 0x58564944/'DIVX' is not supported with codec id 12 and format 'mp4 / MP4 (MPEG-4 Part 14)'\n",
      "OpenCV: FFMPEG: fallback to use tag 0x7634706d/'mp4v'\n"
     ]
    },
    {
     "ename": "KeyboardInterrupt",
     "evalue": "",
     "output_type": "error",
     "traceback": [
      "\u001b[0;31m---------------------------------------------------------------------------\u001b[0m",
      "\u001b[0;31mKeyboardInterrupt\u001b[0m                         Traceback (most recent call last)",
      "\u001b[1;32m/Users/ibrahim/Desktop/Action Learning/action-learning/notebooks/test.ipynb Cell 1\u001b[0m in \u001b[0;36m<cell line: 12>\u001b[0;34m()\u001b[0m\n\u001b[1;32m     <a href='vscode-notebook-cell:/Users/ibrahim/Desktop/Action%20Learning/action-learning/notebooks/test.ipynb#ch0000000?line=13'>14</a>\u001b[0m     writer\u001b[39m.\u001b[39mwrite(frame)\n\u001b[1;32m     <a href='vscode-notebook-cell:/Users/ibrahim/Desktop/Action%20Learning/action-learning/notebooks/test.ipynb#ch0000000?line=15'>16</a>\u001b[0m     cv2\u001b[39m.\u001b[39mimshow(\u001b[39m'\u001b[39m\u001b[39mframe\u001b[39m\u001b[39m'\u001b[39m, frame)\n\u001b[0;32m---> <a href='vscode-notebook-cell:/Users/ibrahim/Desktop/Action%20Learning/action-learning/notebooks/test.ipynb#ch0000000?line=17'>18</a>\u001b[0m     \u001b[39mif\u001b[39;00m cv2\u001b[39m.\u001b[39;49mwaitKey(\u001b[39m1\u001b[39;49m) \u001b[39m&\u001b[39m \u001b[39m0xFF\u001b[39m \u001b[39m==\u001b[39m \u001b[39m27\u001b[39m:\n\u001b[1;32m     <a href='vscode-notebook-cell:/Users/ibrahim/Desktop/Action%20Learning/action-learning/notebooks/test.ipynb#ch0000000?line=18'>19</a>\u001b[0m         \u001b[39mbreak\u001b[39;00m\n\u001b[1;32m     <a href='vscode-notebook-cell:/Users/ibrahim/Desktop/Action%20Learning/action-learning/notebooks/test.ipynb#ch0000000?line=21'>22</a>\u001b[0m cap\u001b[39m.\u001b[39mrelease()\n",
      "\u001b[0;31mKeyboardInterrupt\u001b[0m: "
     ]
    }
   ],
   "source": [
    "import cv2\n",
    "\n",
    "cap= cv2.VideoCapture(0)\n",
    "\n",
    "width= int(cap.get(cv2.CAP_PROP_FRAME_WIDTH))\n",
    "height= int(cap.get(cv2.CAP_PROP_FRAME_HEIGHT))\n",
    "\n",
    "writer= cv2.VideoWriter('basicvideo.mp4', cv2.VideoWriter_fourcc(*'DIVX'), 20, (width,height))\n",
    "\n",
    "\n",
    "while True:\n",
    "    ret,frame= cap.read()\n",
    "    cv2.imshow('frame', frame)\n",
    "\n",
    "    if cv2.waitKey(1) & 0xFF == 27:\n",
    "        break\n",
    "\n",
    "\n",
    "cap.release()\n",
    "writer.release()\n",
    "cv2.destroyAllWindows()\n"
   ]
  },
  {
   "cell_type": "code",
   "execution_count": 36,
   "metadata": {},
   "outputs": [],
   "source": [
    "import os \n",
    "path =\"../videos/training/{}/{}/\".format('test','ibrahim')\n",
    "all_paths_images= []\n",
    "for (dirpath, dirnames, filenames) in os.walk(path):\n",
    " all_paths_images.extend(filenames)\n",
    "all_paths_images=[os.path.join(path, x) for x in all_paths_images]\n",
    "all_paths_images.sort(key=lambda x: int(x.split('/')[-1].split('.')[0]))"
   ]
  },
  {
   "cell_type": "code",
   "execution_count": 38,
   "metadata": {},
   "outputs": [
    {
     "data": {
      "text/plain": [
       "[['../videos/training/test/ibrahim/0.jpg',\n",
       "  '../videos/training/test/ibrahim/1.jpg',\n",
       "  '../videos/training/test/ibrahim/2.jpg',\n",
       "  '../videos/training/test/ibrahim/3.jpg',\n",
       "  '../videos/training/test/ibrahim/4.jpg',\n",
       "  '../videos/training/test/ibrahim/5.jpg',\n",
       "  '../videos/training/test/ibrahim/6.jpg',\n",
       "  '../videos/training/test/ibrahim/7.jpg',\n",
       "  '../videos/training/test/ibrahim/8.jpg',\n",
       "  '../videos/training/test/ibrahim/9.jpg',\n",
       "  '../videos/training/test/ibrahim/10.jpg',\n",
       "  '../videos/training/test/ibrahim/11.jpg',\n",
       "  '../videos/training/test/ibrahim/12.jpg',\n",
       "  '../videos/training/test/ibrahim/13.jpg',\n",
       "  '../videos/training/test/ibrahim/14.jpg',\n",
       "  '../videos/training/test/ibrahim/15.jpg',\n",
       "  '../videos/training/test/ibrahim/16.jpg',\n",
       "  '../videos/training/test/ibrahim/17.jpg',\n",
       "  '../videos/training/test/ibrahim/18.jpg',\n",
       "  '../videos/training/test/ibrahim/19.jpg',\n",
       "  '../videos/training/test/ibrahim/20.jpg',\n",
       "  '../videos/training/test/ibrahim/21.jpg',\n",
       "  '../videos/training/test/ibrahim/22.jpg',\n",
       "  '../videos/training/test/ibrahim/23.jpg',\n",
       "  '../videos/training/test/ibrahim/24.jpg',\n",
       "  '../videos/training/test/ibrahim/25.jpg',\n",
       "  '../videos/training/test/ibrahim/26.jpg',\n",
       "  '../videos/training/test/ibrahim/27.jpg',\n",
       "  '../videos/training/test/ibrahim/28.jpg',\n",
       "  '../videos/training/test/ibrahim/29.jpg',\n",
       "  '../videos/training/test/ibrahim/30.jpg',\n",
       "  '../videos/training/test/ibrahim/31.jpg',\n",
       "  '../videos/training/test/ibrahim/32.jpg',\n",
       "  '../videos/training/test/ibrahim/33.jpg',\n",
       "  '../videos/training/test/ibrahim/34.jpg',\n",
       "  '../videos/training/test/ibrahim/35.jpg',\n",
       "  '../videos/training/test/ibrahim/36.jpg',\n",
       "  '../videos/training/test/ibrahim/37.jpg',\n",
       "  '../videos/training/test/ibrahim/38.jpg',\n",
       "  '../videos/training/test/ibrahim/39.jpg']]"
      ]
     },
     "execution_count": 38,
     "metadata": {},
     "output_type": "execute_result"
    }
   ],
   "source": [
    "[all_paths_images]"
   ]
  },
  {
   "cell_type": "code",
   "execution_count": null,
   "metadata": {},
   "outputs": [],
   "source": []
  }
 ],
 "metadata": {
  "kernelspec": {
   "display_name": "Python 3.9.0",
   "language": "python",
   "name": "python3"
  },
  "language_info": {
   "codemirror_mode": {
    "name": "ipython",
    "version": 3
   },
   "file_extension": ".py",
   "mimetype": "text/x-python",
   "name": "python",
   "nbconvert_exporter": "python",
   "pygments_lexer": "ipython3",
   "version": "3.9.0"
  },
  "orig_nbformat": 4,
  "vscode": {
   "interpreter": {
    "hash": "207ea21c30e57e17916581cece7e93ad79bc356a57e7bb4351404098d44d3549"
   }
  }
 },
 "nbformat": 4,
 "nbformat_minor": 2
}
